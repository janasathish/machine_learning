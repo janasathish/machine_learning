{
 "cells": [
  {
   "cell_type": "code",
   "execution_count": 1,
   "metadata": {
    "collapsed": false
   },
   "outputs": [
    {
     "name": "stdout",
     "output_type": "stream",
     "text": [
      "accuracy= 100.0\n",
      "Features: [     112        1        5        5      100        1        5     1000\n",
      " 20170104] \n",
      "Actual Target: seg1 \n",
      "Predicted Target: ['seg1']\n"
     ]
    },
    {
     "name": "stderr",
     "output_type": "stream",
     "text": [
      "/Users/administrator/anaconda/lib/python3.5/site-packages/sklearn/utils/validation.py:386: DeprecationWarning: Passing 1d arrays as data is deprecated in 0.17 and willraise ValueError in 0.19. Reshape your data either using X.reshape(-1, 1) if your data has a single feature or X.reshape(1, -1) if it contains a single sample.\n",
      "  DeprecationWarning)\n"
     ]
    }
   ],
   "source": [
    "import pandas as pd\n",
    "import numpy as np\n",
    "from pandas.tools.plotting import scatter_matrix\n",
    "import matplotlib.pyplot as plt\n",
    "from sklearn.metrics import classification_report\n",
    "from sklearn.metrics import confusion_matrix\n",
    "from sklearn.metrics import accuracy_score\n",
    "from sklearn.linear_model import LogisticRegression\n",
    "from sklearn.tree import DecisionTreeClassifier\n",
    "from sklearn.neighbors import KNeighborsClassifier\n",
    "from sklearn.discriminant_analysis import LinearDiscriminantAnalysis\n",
    "from sklearn.naive_bayes import GaussianNB\n",
    "from sklearn.svm import SVC\n",
    "from sklearn import preprocessing, cross_validation, svm ,neighbors\n",
    "from sklearn.linear_model import LinearRegression\n",
    "from sklearn import tree\n",
    "from IPython.display import Image \n",
    "from graphviz import Digraph\n",
    "\n",
    "my_data = pd.read_csv('/Users/administrator/dev/dataset/customer_segments', sep=',')\n",
    "\n",
    "#names = ['lable_seg','cusotmer_id','lob','risk','geo_risk','type','profile','volume_of_txns','value_of_txns','batch_date']\n",
    "\n",
    "X=np.array(my_data.drop(['lable_seg'],1))\n",
    "y=np.array(my_data['lable_seg'])\n",
    "\n",
    "X_train, X_test, y_train, y_test = cross_validation.train_test_split(X, y, test_size=0.2)\n",
    "\n",
    "clf = tree.DecisionTreeClassifier()\n",
    "\n",
    "clf.fit(X_train,y_train)\n",
    "\n",
    "print(\"accuracy=\",clf.score(X_test, y_test)*100)\n",
    "\n",
    "print(\"Features:\",X_test[-1],\"\\nActual Target:\",y_test[-1],\"\\nPredicted Target:\",clf.predict(X_test[-1]))\n",
    "\n",
    "#dot_data = tree.export_graphviz(clf,out_file='tree.dot') \n",
    "#dot = Digraph(dot_data)\n",
    "#dot.render('/Users/administrator/dev/pynotebook/tree.dot',view=True)\n",
    "#with open(\"tree.dot\", 'w') as f:\n",
    "#    f = tree.export_graphviz(clf, out_file=f)\n"
   ]
  },
  {
   "cell_type": "code",
   "execution_count": null,
   "metadata": {
    "collapsed": true
   },
   "outputs": [],
   "source": []
  }
 ],
 "metadata": {
  "anaconda-cloud": {},
  "celltoolbar": "Edit Metadata",
  "kernelspec": {
   "display_name": "Python [conda root]",
   "language": "python",
   "name": "conda-root-py"
  },
  "language_info": {
   "codemirror_mode": {
    "name": "ipython",
    "version": 3
   },
   "file_extension": ".py",
   "mimetype": "text/x-python",
   "name": "python",
   "nbconvert_exporter": "python",
   "pygments_lexer": "ipython3",
   "version": "3.5.2"
  }
 },
 "nbformat": 4,
 "nbformat_minor": 1
}
